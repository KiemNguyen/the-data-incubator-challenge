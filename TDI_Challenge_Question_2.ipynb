{
 "cells": [
  {
   "cell_type": "code",
   "execution_count": 1,
   "metadata": {},
   "outputs": [],
   "source": [
    "import numpy as np\n",
    "import random\n",
    "import math\n",
    "\n",
    "# Function to random generate a deck of card\n",
    "def shuffle_deck(n,m):\n",
    "    deck = np.zeros((n),dtype=int)\n",
    "    deck = [int(i*m/n + 1) for i in range(n)]\n",
    "    return deck\n",
    "\n",
    "def mean(n,m,iterations):\n",
    "    deck = shuffle_deck(n,m)\n",
    "    p = 0\n",
    "    for _ in range(iterations):\n",
    "        result = np.random.choice(deck,n,replace=False)\n",
    "        for i,val in enumerate(result[1:]):\n",
    "            if val == result[i]:\n",
    "                p = p + 1\n",
    "    return p / iterations\n",
    "\n",
    "def std(n,m,iterations,mean):\n",
    "    deck = shuffle_deck(n,m)\n",
    "    var = 0\n",
    "    for _ in range(iterations):\n",
    "        p = 0\n",
    "        result = np.random.choice(deck,n,replace=False)\n",
    "        for i,val in enumerate(result[1:]):\n",
    "            if val == result[i]:\n",
    "                p = p + 1\n",
    "        var = var + (p - mean)**2\n",
    "    stdev = (var / iterations)**0.5\n",
    "    return stdev\n",
    "\n",
    "def conditional_probability(n,m,iterations,a,b):\n",
    "    deck = shuffle_deck(n,m)\n",
    "    prob_a = 0\n",
    "    prob_b = 0\n",
    "    for _ in range(iterations):\n",
    "        p = 0\n",
    "        result = np.random.choice(deck,n,replace=False)\n",
    "        for i,val in enumerate(result[1:]):\n",
    "            if val == result[i]:\n",
    "                p = p + 1\n",
    "        if p > a:\n",
    "            prob_a = prob_a + 1\n",
    "            if p > b:\n",
    "                prob_b = prob_b + 1\n",
    "    return prob_b / prob_a    "
   ]
  },
  {
   "cell_type": "markdown",
   "metadata": {},
   "source": [
    "### Question 1: What is the mean of P when N=26 and M=2?"
   ]
  },
  {
   "cell_type": "code",
   "execution_count": 2,
   "metadata": {},
   "outputs": [
    {
     "name": "stdout",
     "output_type": "stream",
     "text": [
      "Question 1: Mean = 12.0073000000\n"
     ]
    }
   ],
   "source": [
    "q1 = mean(26,2,10000)    \n",
    "print(f'Question 1: Mean = {q1:.10f}')"
   ]
  },
  {
   "cell_type": "markdown",
   "metadata": {},
   "source": [
    "### Question 2: What is the standard deviation of P when N=26 and M=2?"
   ]
  },
  {
   "cell_type": "code",
   "execution_count": 3,
   "metadata": {},
   "outputs": [
    {
     "name": "stdout",
     "output_type": "stream",
     "text": [
      "Question 2: Standard deviation = 2.4793310489\n"
     ]
    }
   ],
   "source": [
    "q2 = std(26,2,10000,q1)\n",
    "print(f'Question 2: Standard deviation = {q2:.10f}')"
   ]
  },
  {
   "cell_type": "markdown",
   "metadata": {},
   "source": [
    "### Question 3: What is the mean of P when N=52 and M=4?"
   ]
  },
  {
   "cell_type": "code",
   "execution_count": 4,
   "metadata": {},
   "outputs": [
    {
     "name": "stdout",
     "output_type": "stream",
     "text": [
      "Question 3: Mean = 11.9741000000\n"
     ]
    }
   ],
   "source": [
    "q3 = mean(52,4,10000)\n",
    "print(f'Question 3: Mean = {q3:.10f}')"
   ]
  },
  {
   "cell_type": "markdown",
   "metadata": {},
   "source": [
    "### Question 4: What is the standard deviation of P when N=52 and M=4?"
   ]
  },
  {
   "cell_type": "code",
   "execution_count": 5,
   "metadata": {},
   "outputs": [
    {
     "name": "stdout",
     "output_type": "stream",
     "text": [
      "Question 4: Standard deviation = 3.0378196540\n"
     ]
    }
   ],
   "source": [
    "q4 = std(52,4,10000,q3)\n",
    "print(f'Question 4: Standard deviation = {q4:.10f}')"
   ]
  },
  {
   "cell_type": "markdown",
   "metadata": {},
   "source": [
    "### Question 5: What is the conditional probability that P is greater than 12 given that it is greater than 6 when N=26 and M=2?"
   ]
  },
  {
   "cell_type": "code",
   "execution_count": 6,
   "metadata": {},
   "outputs": [
    {
     "name": "stdout",
     "output_type": "stream",
     "text": [
      "Question 5: Conditional probability  = 0.4223168136\n"
     ]
    }
   ],
   "source": [
    "q5 = conditional_probability(26,2,10000,6,12)\n",
    "print(f'Question 5: Conditional probability  = {q5:.10f}')"
   ]
  },
  {
   "cell_type": "markdown",
   "metadata": {},
   "source": [
    "### Question 6: What is the conditional probability that P is greater than 12 given that it is greater than 6 when N=52 and M=4?"
   ]
  },
  {
   "cell_type": "code",
   "execution_count": 7,
   "metadata": {},
   "outputs": [
    {
     "name": "stdout",
     "output_type": "stream",
     "text": [
      "Question 6: Conditional probability  = 0.4310665564\n"
     ]
    }
   ],
   "source": [
    "q6 = conditional_probability(52,4,10000,6,12)\n",
    "print(f'Question 6: Conditional probability  = {q6:.10f}')"
   ]
  },
  {
   "cell_type": "code",
   "execution_count": null,
   "metadata": {},
   "outputs": [],
   "source": []
  }
 ],
 "metadata": {
  "kernelspec": {
   "display_name": "Python 3",
   "language": "python",
   "name": "python3"
  },
  "language_info": {
   "codemirror_mode": {
    "name": "ipython",
    "version": 3
   },
   "file_extension": ".py",
   "mimetype": "text/x-python",
   "name": "python",
   "nbconvert_exporter": "python",
   "pygments_lexer": "ipython3",
   "version": "3.6.5"
  }
 },
 "nbformat": 4,
 "nbformat_minor": 2
}
